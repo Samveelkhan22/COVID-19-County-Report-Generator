{
  "nbformat": 4,
  "nbformat_minor": 0,
  "metadata": {
    "colab": {
      "provenance": []
    },
    "kernelspec": {
      "name": "python3",
      "display_name": "Python 3"
    },
    "language_info": {
      "name": "python"
    }
  },
  "cells": [
    {
      "cell_type": "code",
      "execution_count": null,
      "metadata": {
        "id": "33RxH6hARaSb"
      },
      "outputs": [],
      "source": [
        "import geopandas as gpd\n",
        "import pandas as pd\n",
        "import matplotlib.pyplot as plt\n",
        "import contextily\n",
        "import mapclassify\n",
        "import folium\n",
        "import aiohttp\n",
        "import fsspec\n",
        "\n",
        "\n",
        "# Load the GeoDataFrame containing geometry shapes for US counties\n",
        "county_data_url = \"https://github.com/babdelfa/gis/blob/main/counties_geometry.zip?raw=true\"\n",
        "with fsspec.open(county_data_url) as file:\n",
        "    county_shapes = gpd.read_file(file)\n",
        "\n",
        "# Load the DataFrame containing COVID-19 data\n",
        "covid_data_url = \"https://github.com/CSSEGISandData/COVID-19/raw/master/csse_covid_19_data/csse_covid_19_time_series/time_series_covid19_deaths_US.csv\"\n",
        "df = pd.read_csv(covid_data_url)\n",
        "\n",
        "# Merge the GeoDataFrame and DataFrame based on the FIPS code\n",
        "gdf = county_shapes.merge(df, left_on='FIPS_BEA', right_on='FIPS')\n",
        "\n",
        "# Get user input for the county\n",
        "county_name = input(\"Enter County: \").strip()  # Remove leading and trailing whitespaces\n",
        "\n",
        "# Filter the data for the specified county\n",
        "selected_county = gdf[gdf['Admin2'].str.strip().str.lower() == county_name.lower()]\n",
        "\n",
        "# Check if the county exists in the data\n",
        "if not selected_county.empty:\n",
        "    # Display population information\n",
        "    population_info = selected_county['Population'].values[0] if 'Population' in selected_county.columns else \"Population information not available\"\n",
        "\n",
        "    # Display the first reported outbreak date\n",
        "    first_outbreak_info = selected_county['First_Outbreak'].values[0] if 'First_Outbreak' in selected_county.columns else \"First Reported Outbreak information not available\"\n",
        "\n",
        "    # Display COVID-19 Summary Statistics\n",
        "    print(\"\\n*** MIS 433 COVID19 Report ***\")\n",
        "    print(f\"Enter County: {county_name}\")\n",
        "    print(f\"Population of {county_name}, Virginia: {population_info}\")\n",
        "    print(f\"First Reported Outbreak in {county_name}: {first_outbreak_info}\")\n",
        "\n",
        "    # Define a set of columns for COVID-19 statistics\n",
        "    covid_columns = ['average_new_cases_2020', 'average_new_cases_2021', 'average_new_cases_2022',\n",
        "                     'total_new_cases_2020', 'total_new_cases_2021', 'total_new_cases_2022',\n",
        "                     'cumulative_total_cases_2022']\n",
        "\n",
        "    # Check if the necessary columns are available for COVID-19 statistics\n",
        "    if all(col in selected_county.columns for col in covid_columns):\n",
        "        # Display COVID-19 statistics with actual values\n",
        "        print(f\"{county_name} County COVID19 Summary Statistics:\")\n",
        "        print(f\" - Average number of new cases in 2020: {selected_county['average_new_cases_2020'].values[0]:.2f}\")\n",
        "        print(f\" - Average number of new cases in 2021: {selected_county['average_new_cases_2021'].values[0]:.2f}\")\n",
        "        print(f\" - Average number of new cases in 2022: {selected_county['average_new_cases_2022'].values[0]:.2f}\")\n",
        "        print(f\" - Total number of new cases in 2020: {selected_county['total_new_cases_2020'].values[0]:,}\")\n",
        "        print(f\" - Total number of new cases in 2021: {selected_county['total_new_cases_2021'].values[0]:,}\")\n",
        "        print(f\" - Total number of new cases in 2022: {selected_county['total_new_cases_2022'].values[0]:,}\")\n",
        "        print(f\" - Cumulative total number of cases: {selected_county['cumulative_total_cases_2022'].values[0]:,} (December 31, 2022)\")\n",
        "    else:\n",
        "        print(f\"COVID-19 statistics not available for {county_name}\")\n",
        "else:\n",
        "    print(f\"County '{county_name}' not found in the data.\")\n"
      ]
    }
  ]
}